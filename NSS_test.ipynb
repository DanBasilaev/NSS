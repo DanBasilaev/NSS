{
  "nbformat": 4,
  "nbformat_minor": 0,
  "metadata": {
    "colab": {
      "provenance": [],
      "collapsed_sections": [
        "-znJAe0r0PJA"
      ],
      "authorship_tag": "ABX9TyOrOkk02FCXhYAiczhpiP5v",
      "include_colab_link": true
    },
    "kernelspec": {
      "name": "python3",
      "display_name": "Python 3"
    },
    "language_info": {
      "name": "python"
    }
  },
  "cells": [
    {
      "cell_type": "markdown",
      "metadata": {
        "id": "view-in-github",
        "colab_type": "text"
      },
      "source": [
        "<a href=\"https://colab.research.google.com/github/DanBasilaev/NSS/blob/main/NSS_test.ipynb\" target=\"_parent\"><img src=\"https://colab.research.google.com/assets/colab-badge.svg\" alt=\"Open In Colab\"/></a>"
      ]
    },
    {
      "cell_type": "code",
      "execution_count": null,
      "metadata": {
        "id": "tczb-LQGq58V"
      },
      "outputs": [],
      "source": [
        "import pandas as pd\n",
        "import numpy as np\n",
        "import datetime"
      ]
    },
    {
      "cell_type": "markdown",
      "source": [
        "# Работы"
      ],
      "metadata": {
        "id": "pHYoOCXZHWq9"
      }
    },
    {
      "cell_type": "code",
      "source": [
        "df_act = pd.read_excel('dataset/1.xlsx', sheet_name='Ноябрь', header=[7,9] ,nrows=135,na_filter=False)"
      ],
      "metadata": {
        "id": "EGpXtSyKs7V7",
        "colab": {
          "base_uri": "https://localhost:8080/"
        },
        "outputId": "a82cce23-c71a-4f72-98a7-2ec482187e6c"
      },
      "execution_count": 375,
      "outputs": [
        {
          "output_type": "stream",
          "name": "stderr",
          "text": [
            "/usr/local/lib/python3.7/dist-packages/ipykernel_launcher.py:1: FutureWarning: Inferring datetime64[ns] from data containing strings is deprecated and will be removed in a future version. To retain the old behavior explicitly pass Series(data, dtype={value.dtype})\n",
            "  \"\"\"Entry point for launching an IPython kernel.\n"
          ]
        }
      ]
    },
    {
      "cell_type": "code",
      "source": [
        "df_act = df_act.drop(0)"
      ],
      "metadata": {
        "id": "1YyWez-2IzKW"
      },
      "execution_count": 376,
      "outputs": []
    },
    {
      "cell_type": "code",
      "source": [
        "df_act = df_act[['Наименование работ','Дни мес.','Ноябрь']]"
      ],
      "metadata": {
        "id": "AyvdmezCIlTH"
      },
      "execution_count": 377,
      "outputs": []
    },
    {
      "cell_type": "code",
      "source": [
        "df_act.columns = range(df_act.shape[1])"
      ],
      "metadata": {
        "id": "m7egwHLvNY74"
      },
      "execution_count": 378,
      "outputs": []
    },
    {
      "cell_type": "code",
      "source": [
        "df_act.rename(columns = {0:'Наименование работ', 1:'Дни мес.'}, inplace = True)\n"
      ],
      "metadata": {
        "id": "nZkvyG0UK94O"
      },
      "execution_count": 379,
      "outputs": []
    },
    {
      "cell_type": "code",
      "source": [
        "df_act.rename(columns=lambda x: datetime.date(2015, 11, x-1).strftime(\"%d.%m.%Y\") if type(x) == int else x, inplace = True)\n"
      ],
      "metadata": {
        "id": "PfveB2to8w1B"
      },
      "execution_count": 380,
      "outputs": []
    },
    {
      "cell_type": "code",
      "source": [
        "df_act.to_csv('result/act.csv', index=False)"
      ],
      "metadata": {
        "id": "GiMNFlvX5uPX"
      },
      "execution_count": 381,
      "outputs": []
    },
    {
      "cell_type": "markdown",
      "source": [
        "# Ресурсы"
      ],
      "metadata": {
        "id": "Bn2eKhsIscc7"
      }
    },
    {
      "cell_type": "code",
      "source": [
        "df_res = pd.read_excel('dataset/1.xlsx', sheet_name='Ноябрь', header=[146,147],nrows=48, na_filter=False)"
      ],
      "metadata": {
        "id": "Oyd7BDsgsbHh"
      },
      "execution_count": 382,
      "outputs": []
    },
    {
      "cell_type": "code",
      "source": [
        "df_res = df_res[['Наименование и марка техники (механизма), оборудования','Ноябрь']]"
      ],
      "metadata": {
        "id": "G4naFo0fscH-"
      },
      "execution_count": 383,
      "outputs": []
    },
    {
      "cell_type": "code",
      "source": [
        "df_res = df_res.drop(0)"
      ],
      "metadata": {
        "id": "RD8TFOcmscAb"
      },
      "execution_count": 384,
      "outputs": []
    },
    {
      "cell_type": "code",
      "source": [
        "df_res.columns = range(df_res.shape[1])"
      ],
      "metadata": {
        "id": "K_RCuxF2No1F"
      },
      "execution_count": 385,
      "outputs": []
    },
    {
      "cell_type": "code",
      "source": [
        "df_res.rename(columns = {0:'Наименование и марка техники (механизма), оборудования'}, inplace = True)"
      ],
      "metadata": {
        "id": "Yc6_jwoPNxzb"
      },
      "execution_count": 386,
      "outputs": []
    },
    {
      "cell_type": "code",
      "source": [
        "df_res.rename(columns=lambda x: datetime.date(2015, 11, x).strftime(\"%d.%m.%Y\") if type(x) == int else x, inplace = True)"
      ],
      "metadata": {
        "id": "6qKG7ctmN5aW"
      },
      "execution_count": 387,
      "outputs": []
    },
    {
      "cell_type": "code",
      "source": [
        "df_res.to_csv('result/res.csv', index=False)"
      ],
      "metadata": {
        "id": "nuqW3yAqsb2X"
      },
      "execution_count": 388,
      "outputs": []
    },
    {
      "cell_type": "markdown",
      "source": [
        "# Субподрядчики\n"
      ],
      "metadata": {
        "id": "KXBtpODvt6Kz"
      }
    },
    {
      "cell_type": "markdown",
      "source": [
        "## Субподрядчики(люди)"
      ],
      "metadata": {
        "id": "imaG4Lk00KS_"
      }
    },
    {
      "cell_type": "code",
      "source": [
        "df_sbcn_people = pd.read_excel('dataset/1.xlsx', sheet_name='Ноябрь', header=[236,237],nrows=7)"
      ],
      "metadata": {
        "id": "0b35TDpx0JgA"
      },
      "execution_count": 389,
      "outputs": []
    },
    {
      "cell_type": "code",
      "source": [
        "df_sbcn_people = df_sbcn_people[['Наименование субподрядной организации', 'Наименование должностей, профессий','ноябрь']]"
      ],
      "metadata": {
        "id": "Mv4eG8wm0pr6"
      },
      "execution_count": 390,
      "outputs": []
    },
    {
      "cell_type": "code",
      "source": [
        "df_sbcn_people = df_sbcn_people.drop(0)"
      ],
      "metadata": {
        "id": "ezb7kmqG0-Dp"
      },
      "execution_count": 391,
      "outputs": []
    },
    {
      "cell_type": "code",
      "source": [
        "df_sbcn_people.dropna(axis='columns',how='all', inplace=True)"
      ],
      "metadata": {
        "id": "qJjaU7aAuC3i"
      },
      "execution_count": 392,
      "outputs": []
    },
    {
      "cell_type": "code",
      "source": [
        "df_sbcn_people.columns = range(df_sbcn_people.shape[1])"
      ],
      "metadata": {
        "id": "U_fI9nkgu6vf"
      },
      "execution_count": 393,
      "outputs": []
    },
    {
      "cell_type": "code",
      "source": [
        "df_sbcn_people.rename(columns = {0:'Наименование субподрядной организации', 1:'Наименование должностей, профессий'}, inplace = True)"
      ],
      "metadata": {
        "id": "XUfMfgV3vY-Y"
      },
      "execution_count": 394,
      "outputs": []
    },
    {
      "cell_type": "code",
      "source": [
        "df_sbcn_people.rename(columns=lambda x: datetime.date(2015, 11, x-1).strftime(\"%d.%m.%Y\") if type(x) == int else x, inplace = True)"
      ],
      "metadata": {
        "id": "R4QB6xXzvMXP"
      },
      "execution_count": 395,
      "outputs": []
    },
    {
      "cell_type": "code",
      "source": [
        "df_sbcn_people.to_csv('result/subcon-people.csv', index=False)"
      ],
      "metadata": {
        "id": "rr7YK3OM1RSm"
      },
      "execution_count": 396,
      "outputs": []
    },
    {
      "cell_type": "markdown",
      "source": [
        "## Субподрядчики(оборудование)"
      ],
      "metadata": {
        "id": "-znJAe0r0PJA"
      }
    },
    {
      "cell_type": "code",
      "source": [
        "df_sbcn_eq = pd.read_excel('dataset/1.xlsx', sheet_name='Ноябрь', header=[251,252],nrows=3)"
      ],
      "metadata": {
        "id": "gjspt4YP0QQN"
      },
      "execution_count": 397,
      "outputs": []
    },
    {
      "cell_type": "code",
      "source": [
        "df_sbcn_eq = df_sbcn_eq[['Наименование субподрядной организации', 'Наименование и марка техники (механизма), оборудования','ноябрь']]"
      ],
      "metadata": {
        "id": "P9CWByA9uKhx"
      },
      "execution_count": 398,
      "outputs": []
    },
    {
      "cell_type": "code",
      "source": [
        "df_sbcn_eq = df_sbcn_eq.drop(0)"
      ],
      "metadata": {
        "id": "8dEGUKdM3JQ_"
      },
      "execution_count": 399,
      "outputs": []
    },
    {
      "cell_type": "code",
      "source": [
        "df_sbcn_eq.dropna(axis='columns',how='all', inplace=True)"
      ],
      "metadata": {
        "id": "rAQ8LTNZwutx"
      },
      "execution_count": 400,
      "outputs": []
    },
    {
      "cell_type": "code",
      "source": [
        "df_sbcn_eq.columns = range(df_sbcn_eq.shape[1])\n",
        "del df_sbcn_eq[32]"
      ],
      "metadata": {
        "id": "Mm7OvLo5w6-K"
      },
      "execution_count": 401,
      "outputs": []
    },
    {
      "cell_type": "code",
      "source": [
        "df_sbcn_eq.rename(columns = {0:'Наименование субподрядной организации', 1:'Наименование и марка техники (механизма), оборудования'}, inplace = True)"
      ],
      "metadata": {
        "id": "Qk-nCmwFxEWN"
      },
      "execution_count": 402,
      "outputs": []
    },
    {
      "cell_type": "code",
      "source": [
        "df_sbcn_eq.rename(columns=lambda x: datetime.date(2015, 11, x-1).strftime(\"%d.%m.%Y\") if type(x) == int else x, inplace = True)"
      ],
      "metadata": {
        "id": "hu7IwKNoxdXr"
      },
      "execution_count": 403,
      "outputs": []
    },
    {
      "cell_type": "code",
      "source": [
        "df_sbcn_eq.to_csv('result/subcon-eq.csv', index=False)"
      ],
      "metadata": {
        "id": "ODbJrD8Z3JEX"
      },
      "execution_count": 404,
      "outputs": []
    }
  ]
}