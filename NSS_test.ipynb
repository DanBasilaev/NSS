{
  "nbformat": 4,
  "nbformat_minor": 0,
  "metadata": {
    "colab": {
      "provenance": [],
      "collapsed_sections": [
        "-znJAe0r0PJA"
      ],
      "authorship_tag": "ABX9TyNkxyU2NEtDTKDnGKDI6T2Y",
      "include_colab_link": true
    },
    "kernelspec": {
      "name": "python3",
      "display_name": "Python 3"
    },
    "language_info": {
      "name": "python"
    }
  },
  "cells": [
    {
      "cell_type": "markdown",
      "metadata": {
        "id": "view-in-github",
        "colab_type": "text"
      },
      "source": [
        "<a href=\"https://colab.research.google.com/github/DanBasilaev/NSS/blob/main/NSS_test.ipynb\" target=\"_parent\"><img src=\"https://colab.research.google.com/assets/colab-badge.svg\" alt=\"Open In Colab\"/></a>"
      ]
    },
    {
      "cell_type": "code",
      "execution_count": 1,
      "metadata": {
        "id": "tczb-LQGq58V"
      },
      "outputs": [],
      "source": [
        "import pandas as pd\n",
        "import numpy as np\n",
        "import datetime"
      ]
    },
    {
      "cell_type": "markdown",
      "source": [
        "# Функции"
      ],
      "metadata": {
        "id": "R_WuzY3j-y4B"
      }
    },
    {
      "cell_type": "code",
      "source": [
        "def filter_columns(df, arr):\n",
        "    if (len(df) == 135):\n",
        "      df = df.drop(1)\n",
        "    else:\n",
        "      df = df.drop(0)\n",
        "    df = df[arr]\n",
        "    df = df.dropna(axis='columns',how='all')\n",
        "    df.columns = range(df.shape[1])\n",
        "    return df"
      ],
      "metadata": {
        "id": "ETa9_C89-lxO"
      },
      "execution_count": 22,
      "outputs": []
    },
    {
      "cell_type": "markdown",
      "source": [
        "# Работы"
      ],
      "metadata": {
        "id": "pHYoOCXZHWq9"
      }
    },
    {
      "cell_type": "code",
      "source": [
        "df_act = pd.read_excel('dataset/1.xlsx', sheet_name='Ноябрь', header=[7,9] ,nrows=135,na_filter=False, index_col=0)"
      ],
      "metadata": {
        "id": "EGpXtSyKs7V7",
        "colab": {
          "base_uri": "https://localhost:8080/"
        },
        "outputId": "d7e1cd13-d0f7-4ed6-9f88-f78e43ecfe22"
      },
      "execution_count": 23,
      "outputs": [
        {
          "output_type": "stream",
          "name": "stderr",
          "text": [
            "/usr/local/lib/python3.7/dist-packages/ipykernel_launcher.py:1: FutureWarning: Inferring datetime64[ns] from data containing strings is deprecated and will be removed in a future version. To retain the old behavior explicitly pass Series(data, dtype={value.dtype})\n",
            "  \"\"\"Entry point for launching an IPython kernel.\n"
          ]
        }
      ]
    },
    {
      "cell_type": "code",
      "source": [
        "df_act = filter_columns(df_act, ['Наименование работ','Дни мес.','Ноябрь'])"
      ],
      "metadata": {
        "id": "AyvdmezCIlTH"
      },
      "execution_count": 24,
      "outputs": []
    },
    {
      "cell_type": "code",
      "source": [
        "df_act.rename(columns = {0:'Наименование работ', 1:'Дни мес.'}, inplace = True)\n",
        "df_act.rename(columns=lambda x: datetime.date(2015, 11, x-1).strftime(\"%d.%m.%Y\") if type(x) == int else x, inplace = True)"
      ],
      "metadata": {
        "id": "nZkvyG0UK94O"
      },
      "execution_count": 25,
      "outputs": []
    },
    {
      "cell_type": "code",
      "source": [
        "for i, row in df_act.iterrows():\n",
        "  if (row['Наименование работ'] == \"\"):\n",
        "    row['Наименование работ'] = name\n",
        "    continue\n",
        "  row['Наименование работ'] = row['Наименование работ'] + \"_act\"\n",
        "  name = row['Наименование работ']"
      ],
      "metadata": {
        "id": "UGEopLb8XIte"
      },
      "execution_count": 26,
      "outputs": []
    },
    {
      "cell_type": "code",
      "source": [
        "df_act.to_csv('result/act.csv')"
      ],
      "metadata": {
        "id": "GiMNFlvX5uPX"
      },
      "execution_count": 28,
      "outputs": []
    },
    {
      "cell_type": "markdown",
      "source": [
        "# Ресурсы"
      ],
      "metadata": {
        "id": "Bn2eKhsIscc7"
      }
    },
    {
      "cell_type": "code",
      "source": [
        "df_res = pd.read_excel('dataset/1.xlsx', sheet_name='Ноябрь', header=[146,147],nrows=48, na_filter=False)"
      ],
      "metadata": {
        "id": "Oyd7BDsgsbHh"
      },
      "execution_count": 29,
      "outputs": []
    },
    {
      "cell_type": "code",
      "source": [
        "df_res = filter_columns(df_res, ['Наименование и марка техники (механизма), оборудования','Ноябрь']) "
      ],
      "metadata": {
        "id": "G4naFo0fscH-"
      },
      "execution_count": 30,
      "outputs": []
    },
    {
      "cell_type": "code",
      "source": [
        "df_res.rename(columns = {0:'Наименование и марка техники (механизма), оборудования'}, inplace = True)\n",
        "df_res.rename(columns=lambda x: datetime.date(2015, 11, x).strftime(\"%d.%m.%Y\") if type(x) == int else x, inplace = True)"
      ],
      "metadata": {
        "id": "Yc6_jwoPNxzb"
      },
      "execution_count": 31,
      "outputs": []
    },
    {
      "cell_type": "code",
      "source": [
        "df_res.loc[(df_res['Наименование и марка техники (механизма), оборудования'] != None), 'Наименование и марка техники (механизма), оборудования'] = df_res['Наименование и марка техники (механизма), оборудования'] + \"_res\""
      ],
      "metadata": {
        "id": "CWN_hb-3amVy"
      },
      "execution_count": 32,
      "outputs": []
    },
    {
      "cell_type": "code",
      "source": [
        "df_res.to_csv('result/res.csv', index=False)"
      ],
      "metadata": {
        "id": "nuqW3yAqsb2X"
      },
      "execution_count": 33,
      "outputs": []
    },
    {
      "cell_type": "markdown",
      "source": [
        "# Субподрядчики\n"
      ],
      "metadata": {
        "id": "KXBtpODvt6Kz"
      }
    },
    {
      "cell_type": "markdown",
      "source": [
        "## Субподрядчики(люди)"
      ],
      "metadata": {
        "id": "imaG4Lk00KS_"
      }
    },
    {
      "cell_type": "code",
      "source": [
        "df_sbcn_people = pd.read_excel('dataset/1.xlsx', sheet_name='Ноябрь', header=[236,237],nrows=7)"
      ],
      "metadata": {
        "id": "0b35TDpx0JgA"
      },
      "execution_count": 34,
      "outputs": []
    },
    {
      "cell_type": "code",
      "source": [
        "df_sbcn_people = filter_columns(df_sbcn_people, ['Наименование субподрядной организации', 'Наименование должностей, профессий','ноябрь'])"
      ],
      "metadata": {
        "id": "fshoEPPRAT0z"
      },
      "execution_count": 35,
      "outputs": []
    },
    {
      "cell_type": "code",
      "source": [
        "df_sbcn_people.rename(columns = {0:'Наименование субподрядной организации', 1:'Наименование должностей, профессий'}, inplace = True)\n",
        "df_sbcn_people.rename(columns=lambda x: datetime.date(2015, 11, x-1).strftime(\"%d.%m.%Y\") if type(x) == int else x, inplace = True)"
      ],
      "metadata": {
        "id": "XUfMfgV3vY-Y"
      },
      "execution_count": 36,
      "outputs": []
    },
    {
      "cell_type": "code",
      "source": [
        "df_sbcn_people.to_csv('result/subcon-people.csv', index=False)"
      ],
      "metadata": {
        "id": "rr7YK3OM1RSm"
      },
      "execution_count": 37,
      "outputs": []
    },
    {
      "cell_type": "markdown",
      "source": [
        "## Субподрядчики(оборудование)"
      ],
      "metadata": {
        "id": "-znJAe0r0PJA"
      }
    },
    {
      "cell_type": "code",
      "source": [
        "df_sbcn_eq = pd.read_excel('dataset/1.xlsx', sheet_name='Ноябрь', header=[251,252],nrows=3)"
      ],
      "metadata": {
        "id": "gjspt4YP0QQN"
      },
      "execution_count": 38,
      "outputs": []
    },
    {
      "cell_type": "code",
      "source": [
        "df_sbcn_eq = filter_columns(df_sbcn_eq, ['Наименование субподрядной организации', 'Наименование и марка техники (механизма), оборудования','ноябрь'])"
      ],
      "metadata": {
        "id": "75i8Fuw2CLIf"
      },
      "execution_count": 39,
      "outputs": []
    },
    {
      "cell_type": "code",
      "source": [
        "del df_sbcn_eq[32]"
      ],
      "metadata": {
        "id": "Mm7OvLo5w6-K"
      },
      "execution_count": 40,
      "outputs": []
    },
    {
      "cell_type": "code",
      "source": [
        "df_sbcn_eq.rename(columns = {0:'Наименование субподрядной организации', 1:'Наименование и марка техники (механизма), оборудования'}, inplace = True)\n",
        "df_sbcn_eq.rename(columns=lambda x: datetime.date(2015, 11, x-1).strftime(\"%d.%m.%Y\") if type(x) == int else x, inplace = True)"
      ],
      "metadata": {
        "id": "Qk-nCmwFxEWN"
      },
      "execution_count": 41,
      "outputs": []
    },
    {
      "cell_type": "code",
      "source": [
        "df_sbcn_eq.to_csv('result/subcon-eq.csv', index=False)"
      ],
      "metadata": {
        "id": "ODbJrD8Z3JEX"
      },
      "execution_count": 42,
      "outputs": []
    }
  ]
}